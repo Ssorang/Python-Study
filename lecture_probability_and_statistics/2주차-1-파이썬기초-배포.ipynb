{
 "cells": [
  {
   "cell_type": "markdown",
   "id": "8126dd82",
   "metadata": {},
   "source": [
    "# 파이썬 기초 및 라이브러리 소개"
   ]
  },
  {
   "cell_type": "markdown",
   "id": "280b5b99",
   "metadata": {},
   "source": [
    "------------------------"
   ]
  },
  {
   "cell_type": "markdown",
   "id": "1c1d0455",
   "metadata": {},
   "source": [
    "## 1. 파이썬 기초"
   ]
  },
  {
   "cell_type": "markdown",
   "id": "17c88963",
   "metadata": {},
   "source": [
    "### 1-1. 파이썬 정보 확인"
   ]
  },
  {
   "cell_type": "markdown",
   "id": "3c4cd299",
   "metadata": {},
   "source": [
    "#### #파이썬 버전"
   ]
  },
  {
   "cell_type": "code",
   "execution_count": 2,
   "id": "0239caef",
   "metadata": {
    "scrolled": true
   },
   "outputs": [
    {
     "name": "stdout",
     "output_type": "stream",
     "text": [
      "3.10.10 (main, Feb  8 2023, 05:32:04) [Clang 14.0.0 (clang-1400.0.29.202)]\n"
     ]
    }
   ],
   "source": [
    "import sys\n",
    "print(sys.version)"
   ]
  },
  {
   "cell_type": "markdown",
   "id": "fb1a789d",
   "metadata": {},
   "source": [
    "#### #파이썬 실행파일 위치"
   ]
  },
  {
   "cell_type": "code",
   "execution_count": 6,
   "id": "239bbd5f",
   "metadata": {},
   "outputs": [
    {
     "name": "stdout",
     "output_type": "stream",
     "text": [
      "/opt/homebrew/opt/python@3.10/bin/python3.10\n"
     ]
    }
   ],
   "source": [
    "print(sys.executable)"
   ]
  },
  {
   "cell_type": "markdown",
   "id": "754b92ac",
   "metadata": {},
   "source": [
    "#### #현재 위치 "
   ]
  },
  {
   "cell_type": "code",
   "execution_count": 11,
   "id": "18d45f4d",
   "metadata": {},
   "outputs": [
    {
     "data": {
      "text/plain": [
       "'/Users/sorang'"
      ]
     },
     "execution_count": 11,
     "metadata": {},
     "output_type": "execute_result"
    }
   ],
   "source": [
    "import os\n",
    "os.getcwd()"
   ]
  },
  {
   "cell_type": "markdown",
   "id": "68b3c537",
   "metadata": {},
   "source": [
    "#### #현재 사용자 "
   ]
  },
  {
   "cell_type": "code",
   "execution_count": 14,
   "id": "20438860",
   "metadata": {},
   "outputs": [
    {
     "data": {
      "text/plain": [
       "'sorang'"
      ]
     },
     "execution_count": 14,
     "metadata": {},
     "output_type": "execute_result"
    }
   ],
   "source": [
    "import getpass\n",
    "getpass.getuser()"
   ]
  },
  {
   "cell_type": "markdown",
   "id": "0c0b741a",
   "metadata": {},
   "source": [
    "---------------------------------------------"
   ]
  },
  {
   "cell_type": "markdown",
   "id": "faf0e58e",
   "metadata": {},
   "source": [
    "### 1-2. 파이썬 기초 문법"
   ]
  },
  {
   "cell_type": "markdown",
   "id": "c283d90c",
   "metadata": {},
   "source": [
    "#### #컴퓨터의 기본 기능 5가지와 매핑할 수 있는 파이썬 기초 문법\n",
    " 1. 입력 기능 : **input()**\n",
    " 2. 출력 기능 : **print()**\n",
    " 3. 기억 기능 : **변수(숫자&문자 조합된 문자열)**\n",
    " 4. 연산 기능 : **연산자()**\n",
    " 5. 제어 기능 : **if조건문, for반복문, while반복문**"
   ]
  },
  {
   "cell_type": "markdown",
   "id": "65487a5c",
   "metadata": {},
   "source": [
    "### #기억 기능 :변수\n",
    "데이터를 저장할 수 있는 공간\n",
    "\n",
    "**변수 사용 시 주의사항**\n",
    "- 첫 글자는 영문, 혹은 _(언더바)로 시작할 것 (한글도 가능)\n",
    "- 영문자, 숫자, _(언더바)만으로 구성할 것 (공백문자 불가)\n",
    "- 대문자, 소문자 구분해서 사용할 것\n",
    "- 예약어는 피할 것"
   ]
  },
  {
   "cell_type": "code",
   "execution_count": null,
   "id": "c86ab944",
   "metadata": {},
   "outputs": [],
   "source": [
    "# 변수에 데이터를 지정해 보세요.\n",
    "\n",
    "_mydata = 15002"
   ]
  },
  {
   "cell_type": "markdown",
   "id": "b7669af9",
   "metadata": {},
   "source": [
    "### #파이썬 자료형 확인"
   ]
  },
  {
   "cell_type": "code",
   "execution_count": null,
   "id": "8b583921",
   "metadata": {},
   "outputs": [],
   "source": [
    "d1 = 123\n",
    "d2 = '123'\n",
    "d3 = [123]\n",
    "d4 = (123,)\n",
    "d5 = {'key':123}\n",
    "d6 = {123}\n",
    "d7 = True\n",
    "\n",
    "print(f'{d1}의 자료형: {type(d1)}')\n",
    "print(f'{d2}의 자료형: {type(d2)}')\n",
    "print(f'{d3}의 자료형: {type(d3)}')\n",
    "print(f'{d4}의 자료형: {type(d4)}')\n",
    "print(f'{d5}의 자료형: {type(d5)}')\n",
    "print(f'{d6}의 자료형: {type(d6)}')\n",
    "print(f'{d7}의 자료형: {type(d7)}')"
   ]
  },
  {
   "cell_type": "markdown",
   "id": "9781cc96",
   "metadata": {},
   "source": [
    "### #입력 기능 : Input()\n",
    "키보드로부터 입력을 받는 표준 입력 함수"
   ]
  },
  {
   "cell_type": "code",
   "execution_count": 20,
   "id": "1b7577f9",
   "metadata": {},
   "outputs": [
    {
     "name": "stdout",
     "output_type": "stream",
     "text": [
      "Input Your Data :: 3525\n",
      "3525 <class 'str'>\n"
     ]
    }
   ],
   "source": [
    "_mydata = input(\"Input Your Data :: \") # 키보드로부터 정보 입력 받기\n",
    "print(_mydata,type(_mydata))"
   ]
  },
  {
   "cell_type": "markdown",
   "id": "18bc822a",
   "metadata": {},
   "source": [
    "#### 문자열 데이터를 숫자(정수)로 변환하기"
   ]
  },
  {
   "cell_type": "code",
   "execution_count": null,
   "id": "aaf9890f",
   "metadata": {},
   "outputs": [],
   "source": [
    "print(type(_mydata))\n",
    "_mydata = int(_mydata)\n",
    "print(type(_mydata))"
   ]
  },
  {
   "cell_type": "markdown",
   "id": "02bc968e",
   "metadata": {},
   "source": [
    "### #출력 기능 : print()\n",
    "화면에 출력하는 표준 출력 함수"
   ]
  },
  {
   "cell_type": "code",
   "execution_count": 26,
   "id": "7d2e160d",
   "metadata": {
    "scrolled": true
   },
   "outputs": [
    {
     "name": "stdout",
     "output_type": "stream",
     "text": [
      "점심메뉴를 입력하세요 : 돈까스\n"
     ]
    }
   ],
   "source": [
    "# 키보드로 입력 받은 값을 출력해 보세요.\n",
    "\n",
    "lunch = input(\"점심메뉴를 입력하세요 : \")"
   ]
  },
  {
   "cell_type": "code",
   "execution_count": 27,
   "id": "579e45bf",
   "metadata": {},
   "outputs": [
    {
     "name": "stdout",
     "output_type": "stream",
     "text": [
      "오늘의 점심 메뉴는 돈까스 입니다.\n",
      "오늘의 점심 메뉴는 돈까스입니다.\n"
     ]
    }
   ],
   "source": [
    "# 출력 방법\n",
    "# %를 이용한 변수 포맷하여 출력하기\n",
    "print(\"오늘의 점심 메뉴는 %s %s 입니다.\" %(lunch,lunch) # 복수의 값 출력시 \n",
    "\n",
    "\n",
    "# f스트링을 이용한 변수 포맷하여 출력하기\n",
    "print(f\"오늘의 점심 메뉴는 {lunch} 입니다.\")\n",
    "\n",
    "\n"
   ]
  },
  {
   "cell_type": "markdown",
   "id": "a4c37be4",
   "metadata": {},
   "source": [
    "#### -문자열 출력하기\n",
    "문자열은 **작은따옴표('')** 또는 **큰따옴표(\"\")** 둘 중에 아무거나 사용 가능합니다."
   ]
  },
  {
   "cell_type": "code",
   "execution_count": 10,
   "id": "2b581266",
   "metadata": {},
   "outputs": [
    {
     "name": "stdout",
     "output_type": "stream",
     "text": [
      "나는 가천대학교 컴퓨터공학과 2반이상민 학생입니다.\n"
     ]
    }
   ],
   "source": [
    "# 나는 가천대학교/컴퓨터공학과/2반/OOO학생입니다.\n",
    "\n",
    "print(\"나는 가천대학교 \" + \"컴퓨터공학과 \" + \"2반 \" + \"이상민 학생입니다.\")\n"
   ]
  },
  {
   "cell_type": "markdown",
   "id": "687fa042",
   "metadata": {},
   "source": [
    "#### -문자열에 '*' 곱하기 기호를 사용하면 문자열을 반복한다"
   ]
  },
  {
   "cell_type": "code",
   "execution_count": 31,
   "id": "7c1df6c8",
   "metadata": {
    "scrolled": false
   },
   "outputs": [
    {
     "name": "stdout",
     "output_type": "stream",
     "text": [
      "너무 반짝반짝 눈이 부셔 NoNoNoNoNo\n",
      "너무 깜짝깜짝 놀란 나는 OhOhOhOhOh\n",
      "너무 짜릿짜릿 몸이 떨려 GeeGeeGeeGeeGee\n"
     ]
    }
   ],
   "source": [
    "# 문자열 반복하기\n",
    "'''\n",
    "너무 반짝반짝 눈이 부셔 NoNoNoNoNo\n",
    "너무 깜짝깜짝 놀란 나는 OhOhOhOhOh\n",
    "너무 짜릿짜릿 몸이 떨려 GeeGeeGeeGeeGee\n",
    "'''\n",
    "\n",
    "print(\"너무 \" + \"반짝\"*2 + \" 눈이 부셔 \" + \"No\"*5)\n",
    "print(\"너무 \" + \"깜짝\"*2 + \" 놀란 나는 \" + \"Oh\"*5)\n",
    "print(\"너무 \" + \"짜릿\"*2 + \" 몸이 떨려 \" + \"Gee\"*5)\n",
    "\n",
    "\n"
   ]
  },
  {
   "cell_type": "code",
   "execution_count": null,
   "id": "b44bc66e",
   "metadata": {},
   "outputs": [],
   "source": []
  },
  {
   "cell_type": "markdown",
   "id": "31cc4166",
   "metadata": {},
   "source": [
    "### #연산 기능 : 연산자"
   ]
  },
  {
   "cell_type": "markdown",
   "id": "d8c018ca",
   "metadata": {},
   "source": [
    "- 산술 연산자 :  a = a + 5\n",
    "- 대입 연산자 :  a += 5\n",
    "- 관계 연산자 :  a > 100\n",
    "- 논리 연산자 :  (a > 100) and (a <200)"
   ]
  },
  {
   "cell_type": "markdown",
   "id": "7ea5c22e",
   "metadata": {},
   "source": [
    "### [실습문제] : 계산기 프로그램 만들기\n",
    "정수 2개를 키보드로 각각 입력 받아 아래와 같이 덧셈, 뺄셈, 곱셈, 몫, 나머지를 \u000b",
    "\n",
    "출력하는 프로그램을 만들어 보세요.\n"
   ]
  },
  {
   "cell_type": "markdown",
   "id": "ca1816b6",
   "metadata": {},
   "source": [
    "- f'string' 함수를 이용해 출력하기"
   ]
  },
  {
   "cell_type": "code",
   "execution_count": 25,
   "id": "8b486e15",
   "metadata": {},
   "outputs": [
    {
     "name": "stdout",
     "output_type": "stream",
     "text": [
      "Enter here :: 25 5\n",
      "30, 20, 125, 5, 0\n"
     ]
    }
   ],
   "source": [
    "n, m = map(int, input(\"Enter here :: \").split())\n",
    "\n",
    "print(f\"{n+m}, {n-m}, {n*m}, {int(n/m)}, {n%m}\")\n"
   ]
  },
  {
   "cell_type": "markdown",
   "id": "8c537254",
   "metadata": {},
   "source": [
    "### [실습문제] 동전 교환 프로그램 만들기\n",
    "키보드로부터 금액을 입력 받은 후 그 금액에 해당하는 동전을 교환하는 동전교환 프로그램을 아래와 같이 만들어 보세요. "
   ]
  },
  {
   "cell_type": "code",
   "execution_count": 40,
   "id": "938fb8ea",
   "metadata": {
    "scrolled": true
   },
   "outputs": [
    {
     "name": "stdout",
     "output_type": "stream",
     "text": [
      "Enter here :: 1260\n",
      "500Won Coin :: 2Coin\n",
      "100Won Coin :: 2Coin\n",
      "50Won Coin :: 1Coin\n",
      "10Won Coin :: 1Coin\n"
     ]
    }
   ],
   "source": [
    "price = int(input(\"Enter here :: \"))\n",
    "coin_list = [500, 100, 50, 10]\n",
    "\n",
    "for coin in coin_list :\n",
    "    print(f\"{coin} Won :: {price//coin} Coin\")\n",
    "    price = price%coin\n"
   ]
  },
  {
   "cell_type": "markdown",
   "id": "aee8f2e8",
   "metadata": {},
   "source": [
    "### #제어 기능: if 조건문"
   ]
  },
  {
   "cell_type": "markdown",
   "id": "e89f3546",
   "metadata": {},
   "source": [
    "#### 조건문: if "
   ]
  },
  {
   "cell_type": "code",
   "execution_count": null,
   "id": "4f161d86",
   "metadata": {},
   "outputs": [],
   "source": [
    "a = 99\n",
    "if a < 100:\n",
    "    print('100보다 작군요.')"
   ]
  },
  {
   "cell_type": "markdown",
   "id": "cb89ea65",
   "metadata": {},
   "source": [
    "#### 조건문: if ~ else"
   ]
  },
  {
   "cell_type": "code",
   "execution_count": null,
   "id": "6eca2413",
   "metadata": {},
   "outputs": [],
   "source": [
    "a = 200\n",
    "if a > 100:\n",
    "    print('100보다 크군요.')\n",
    "else:\n",
    "    print('100보다 크지 않군요.')"
   ]
  },
  {
   "cell_type": "markdown",
   "id": "13b404bd",
   "metadata": {},
   "source": [
    "#### 조건문 : 중첩if"
   ]
  },
  {
   "cell_type": "code",
   "execution_count": null,
   "id": "9575f530",
   "metadata": {},
   "outputs": [],
   "source": [
    "a = 200\n",
    "if a > 100:\n",
    "    if a > 200:\n",
    "        print('200보다 크군요.')\n",
    "    elif a == 200:\n",
    "        print('200과 같군요.')\n",
    "    else:\n",
    "        print('200보다 크지 않군요.')\n",
    "else:\n",
    "    print('100보다 크지 않군요.')"
   ]
  },
  {
   "cell_type": "markdown",
   "id": "30919e6b",
   "metadata": {},
   "source": [
    "### [실습문제]\n",
    "피타고라스 정리에 의해 직각삼각형의 세 변의 길이에 대한 관계는 아래와 같습니다. 이 정리를 이용하여 세 변의 길이를 입력 받은 삼각형이 직각삼각형인지 아닌지 판별하는 프로그램을 만들어 보세요. \n"
   ]
  },
  {
   "cell_type": "code",
   "execution_count": null,
   "id": "f6e6ca29",
   "metadata": {
    "scrolled": false
   },
   "outputs": [],
   "source": [
    "# A**2 + B**2 = C**2\n",
    "\n",
    "A, B, C = input(\"Enter here :: \").split()\n",
    "\n",
    "if (pow(A))\n"
   ]
  },
  {
   "cell_type": "markdown",
   "id": "67412428",
   "metadata": {},
   "source": [
    "### #제어 기능 : for반복문, while반복문"
   ]
  },
  {
   "cell_type": "markdown",
   "id": "44197774",
   "metadata": {},
   "source": [
    "#### 반복문: for 반복문"
   ]
  },
  {
   "cell_type": "code",
   "execution_count": null,
   "id": "9f69ecc4",
   "metadata": {
    "scrolled": true
   },
   "outputs": [],
   "source": [
    "for i in range(0, 3, 1):\n",
    "    print('안녕하세요? for 문을 공부 중입니다.^^')"
   ]
  },
  {
   "cell_type": "markdown",
   "id": "8288e636",
   "metadata": {},
   "source": [
    "### [실습문제]\n",
    "키보드로 양의 정수(n)을 입력 받아 1~n까지의 합을 구하는 프로그램을 만들어 보세요. "
   ]
  },
  {
   "cell_type": "code",
   "execution_count": 45,
   "id": "d6774150",
   "metadata": {},
   "outputs": [
    {
     "ename": "TypeError",
     "evalue": "pow() missing required argument 'exp' (pos 2)",
     "output_type": "error",
     "traceback": [
      "\u001b[0;31m---------------------------------------------------------------------------\u001b[0m",
      "\u001b[0;31mTypeError\u001b[0m                                 Traceback (most recent call last)",
      "Cell \u001b[0;32mIn[45], line 1\u001b[0m\n\u001b[0;32m----> 1\u001b[0m \u001b[38;5;28mprint\u001b[39m(\u001b[38;5;28;43mpow\u001b[39;49m\u001b[43m(\u001b[49m\u001b[38;5;241;43m10\u001b[39;49m\u001b[43m)\u001b[49m)\n",
      "\u001b[0;31mTypeError\u001b[0m: pow() missing required argument 'exp' (pos 2)"
     ]
    }
   ],
   "source": []
  },
  {
   "cell_type": "markdown",
   "id": "ac62e6f7",
   "metadata": {},
   "source": [
    "#### 반복문: while 반복문"
   ]
  },
  {
   "cell_type": "code",
   "execution_count": null,
   "id": "f2fb3ce9",
   "metadata": {},
   "outputs": [],
   "source": [
    "num1, num2 = 0, 0\n",
    "\n",
    "while True:\n",
    "    num1 = int(input(\"더할 첫 번째 숫자: \"))\n",
    "    if num1 == 0:\n",
    "        break\n",
    "    \n",
    "    num2 = int(input(\"더할 두 번째 숫자: \"))\n",
    "    \n",
    "    print(f'{num1} + {num2} = {num1 + num2}')\n",
    "    \n",
    "print(\"0을 입력해서 반복문을 탈출했습니다.\")"
   ]
  },
  {
   "cell_type": "markdown",
   "id": "02a797a4",
   "metadata": {},
   "source": [
    "### [실습문제]\n",
    "경찰에 쫓기던 범인이 3개의 방 중에 한 곳에 숨어버렸습니다. 범인은 방문을 열 때마다 무작위로 3개의 방 중 하나의 방으로 이동합니다. 3개의 방 중 하나의 방을 선택했을 때 범인이 있다면 100점, 없을 때 -10점을 부여하고 범인을 잡으면 게임을 종료하는 프로그램을 만들어 보세요."
   ]
  },
  {
   "cell_type": "code",
   "execution_count": null,
   "id": "e08b9dc4",
   "metadata": {
    "scrolled": true
   },
   "outputs": [],
   "source": [
    "\n",
    "\n",
    "\n",
    "\n",
    "\n",
    "\n"
   ]
  },
  {
   "cell_type": "markdown",
   "id": "163c8ab1",
   "metadata": {},
   "source": [
    "----------------------------"
   ]
  },
  {
   "cell_type": "markdown",
   "id": "c96d2098",
   "metadata": {},
   "source": [
    "### #리스트 자료형"
   ]
  },
  {
   "cell_type": "code",
   "execution_count": null,
   "id": "a5cc9dcc",
   "metadata": {},
   "outputs": [],
   "source": [
    "scores = [90, 89, 77, 95, 67] \n",
    "\n",
    "scores.append(80)  # 리스트에 데이터 추가\n",
    "print(scores)   \n",
    "\n",
    "print(scores[2])   # 리스트에서 인덱스 2번 출력\n",
    "\n",
    "del scores[2]      # 리스트에서 인덱스 2번 데이터 삭제\n",
    "\n",
    "print(scores[2])"
   ]
  },
  {
   "cell_type": "markdown",
   "id": "27f31220",
   "metadata": {},
   "source": [
    "### #딕셔너리 자료형"
   ]
  },
  {
   "cell_type": "code",
   "execution_count": null,
   "id": "803d325f",
   "metadata": {},
   "outputs": [],
   "source": [
    "scores = {'국어':90,'수학':95,'영어':85} \n",
    "\n",
    "scores['과학'] = 100   # 딕셔너리에 데이터 추가\n",
    "\n",
    "print(scores)   \n",
    "\n",
    "print(scores['수학'])   # 딕셔너리에서 '수학'을 키로 갖는 값 출력\n",
    "\n",
    "del scores['영어']      # 딕셔너리에서 '영어'을 키로 갖는 값 삭제\n",
    "\n",
    "print(scores)"
   ]
  },
  {
   "cell_type": "markdown",
   "id": "b51bdac3",
   "metadata": {},
   "source": [
    "### [실습문제]\n",
    "다음 2개의 리스트 이용하여 음식궁합 딕셔너리를 만들고 아래와 같이 출력되도록 음식 궁합을 출력하는  프로그램을 만들어 보세요."
   ]
  },
  {
   "cell_type": "code",
   "execution_count": null,
   "id": "8b097f37",
   "metadata": {},
   "outputs": [],
   "source": [
    "\n",
    "\n",
    "\n",
    "\n",
    "\n"
   ]
  },
  {
   "cell_type": "markdown",
   "id": "71634116",
   "metadata": {},
   "source": [
    "### #함수 : function"
   ]
  },
  {
   "cell_type": "code",
   "execution_count": null,
   "id": "33e5b09c",
   "metadata": {},
   "outputs": [],
   "source": [
    "def nSum(a, b):\n",
    "    c = a + b\n",
    "    return c\n",
    "\n",
    "nSum(50, 3)"
   ]
  },
  {
   "cell_type": "markdown",
   "id": "7cce90bd",
   "metadata": {},
   "source": [
    "### [실습문제]\n",
    "로또번호(1~45) 숫자 중 중복되지 않은 수 6개를 추출하는 함수를 만들어 보세요. \u000b",
    "단, 함수명은 아래와 같습니다. "
   ]
  },
  {
   "cell_type": "code",
   "execution_count": null,
   "id": "e2562ef6",
   "metadata": {},
   "outputs": [],
   "source": [
    "import random\n",
    "\n",
    "print(\"** 로또 추첨을 시작합니다. **\\n\")\n",
    "\n",
    "def lottoNumber():\n",
    "\n",
    "    \n",
    "    \n",
    "\n",
    "print('로또번호: %s' % lottoNumber())"
   ]
  },
  {
   "cell_type": "markdown",
   "id": "e4941909",
   "metadata": {},
   "source": [
    "------------------------"
   ]
  }
 ],
 "metadata": {
  "kernelspec": {
   "display_name": "Python 3 (ipykernel)",
   "language": "python",
   "name": "python3"
  },
  "language_info": {
   "codemirror_mode": {
    "name": "ipython",
    "version": 3
   },
   "file_extension": ".py",
   "mimetype": "text/x-python",
   "name": "python",
   "nbconvert_exporter": "python",
   "pygments_lexer": "ipython3",
   "version": "3.10.10"
  }
 },
 "nbformat": 4,
 "nbformat_minor": 5
}
