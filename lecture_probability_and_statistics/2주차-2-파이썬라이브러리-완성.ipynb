{
 "cells": [
  {
   "cell_type": "markdown",
   "id": "8126dd82",
   "metadata": {},
   "source": [
    "# 파이썬 기초 및 라이브러리 소개"
   ]
  },
  {
   "cell_type": "markdown",
   "id": "e4941909",
   "metadata": {},
   "source": [
    "------------------------"
   ]
  },
  {
   "cell_type": "markdown",
   "id": "5c4c972d",
   "metadata": {},
   "source": [
    "## 2. 파이썬 라이브러리"
   ]
  },
  {
   "cell_type": "markdown",
   "id": "8dac7d6d",
   "metadata": {},
   "source": [
    "### 라이브러리 설치"
   ]
  },
  {
   "cell_type": "code",
   "execution_count": null,
   "id": "131e54a0",
   "metadata": {},
   "outputs": [],
   "source": [
    "!pip install numpy"
   ]
  },
  {
   "cell_type": "code",
   "execution_count": null,
   "id": "9a3abe6f",
   "metadata": {},
   "outputs": [],
   "source": [
    "!pip install pandas"
   ]
  },
  {
   "cell_type": "code",
   "execution_count": null,
   "id": "792d487d",
   "metadata": {},
   "outputs": [],
   "source": [
    "!pip install matplotlib"
   ]
  },
  {
   "cell_type": "markdown",
   "id": "00760f99",
   "metadata": {},
   "source": [
    "### 라이브러리 사용"
   ]
  },
  {
   "cell_type": "code",
   "execution_count": null,
   "id": "d9ada578",
   "metadata": {},
   "outputs": [],
   "source": [
    "import numpy as np\n",
    "print(np.__version__)"
   ]
  },
  {
   "cell_type": "code",
   "execution_count": null,
   "id": "03b8c24c",
   "metadata": {},
   "outputs": [],
   "source": [
    "import pandas as pd\n",
    "print(pd.__version__)"
   ]
  },
  {
   "cell_type": "code",
   "execution_count": null,
   "id": "a08b4c3a",
   "metadata": {},
   "outputs": [],
   "source": [
    "import matplotlib \n",
    "print(matplotlib.__version__)"
   ]
  },
  {
   "cell_type": "markdown",
   "id": "57bd41f8",
   "metadata": {},
   "source": [
    "-------------------------------"
   ]
  },
  {
   "cell_type": "markdown",
   "id": "a056fdf3",
   "metadata": {},
   "source": [
    "## numpy"
   ]
  },
  {
   "cell_type": "markdown",
   "id": "17781bc9",
   "metadata": {},
   "source": [
    "### numpy 배열 기초"
   ]
  },
  {
   "cell_type": "markdown",
   "id": "e197e4dd",
   "metadata": {},
   "source": [
    "#### #넘파이를 사용한 벡터 표현\n",
    "- **스칼라**(scalar) : 숫자 하나만으로 이루어진 데이터, 보통 $x$와 같이 알파벳 소문자로 표기, 실수 숫자로 $x ∈ R$\n",
    "- **벡터**(vector) : 여러 숫자가 특정한 순서대로 모여 있는 것. ex)데이터 레코드들. 행(row), 열(columns)을 가지는 형태, $x ∈ R^n$\n",
    "- **행렬**(array) : 복수 차원을 가지는 데이터 레코드"
   ]
  },
  {
   "cell_type": "code",
   "execution_count": null,
   "id": "c9fee372",
   "metadata": {},
   "outputs": [],
   "source": [
    "import numpy as np\n",
    "\n",
    "x1 = np.array([5.1, 3.5, 1.4 , 0.2])\n",
    "print(x1)\n",
    "\n",
    "x2 = np.array([[5.1],[3.5],[1.4],[0.2]])\n",
    "print(x2)"
   ]
  },
  {
   "cell_type": "markdown",
   "id": "a4c223bc",
   "metadata": {},
   "source": [
    "#### #1차원 배열 만들기"
   ]
  },
  {
   "cell_type": "code",
   "execution_count": null,
   "id": "0665c30b",
   "metadata": {},
   "outputs": [],
   "source": [
    "na = np.array([0,1,2,3,4,5,6,7,8,9])\n",
    "print(na)"
   ]
  },
  {
   "cell_type": "code",
   "execution_count": null,
   "id": "842fd7a4",
   "metadata": {},
   "outputs": [],
   "source": [
    "na = np.array(range(0,10,1))\n",
    "print(na)"
   ]
  },
  {
   "cell_type": "code",
   "execution_count": null,
   "id": "58f115e0",
   "metadata": {},
   "outputs": [],
   "source": [
    "na = np.arange(10)\n",
    "print(na)"
   ]
  },
  {
   "cell_type": "markdown",
   "id": "bfb3fbf8",
   "metadata": {},
   "source": [
    "#### 2차원 배열 "
   ]
  },
  {
   "cell_type": "code",
   "execution_count": null,
   "id": "10e306a2",
   "metadata": {},
   "outputs": [],
   "source": [
    "na = np.array([[0,1,2],[3,4,5]])  # 2  x 3 array (괄호의 갯수=차원)\n",
    "print(na)"
   ]
  },
  {
   "cell_type": "markdown",
   "id": "d57282f5",
   "metadata": {},
   "source": [
    "#### #3차원 배열"
   ]
  },
  {
   "cell_type": "code",
   "execution_count": null,
   "id": "4d55338f",
   "metadata": {
    "scrolled": true
   },
   "outputs": [],
   "source": [
    "na = np.array([[[0,1,2],[3,4,5]],[[6,7,8],[9,10,11]]])\n",
    "print(na)"
   ]
  },
  {
   "cell_type": "markdown",
   "id": "e89a4630",
   "metadata": {},
   "source": [
    "#### #배열의 차원과 크기"
   ]
  },
  {
   "cell_type": "code",
   "execution_count": null,
   "id": "91d522f7",
   "metadata": {},
   "outputs": [],
   "source": [
    "na1 = np.array([0,1,2,3,4,5,6,7,8,9])\n",
    "na2 = np.array([[0,1,2],[3,4,5]])\n",
    "na3 = np.array([[[0,1,2],[3,4,5]],[[6,7,8],[9,10,11]]])\n",
    "\n",
    "print(len(na1),len(na2),len(na3))    # 배열의 요소 개수\n",
    "print(len(na1),len(na2[0]),len(na3[1][0])) "
   ]
  },
  {
   "cell_type": "markdown",
   "id": "3da8f178",
   "metadata": {},
   "source": [
    "#### - ndim : 배열의 차원"
   ]
  },
  {
   "cell_type": "code",
   "execution_count": null,
   "id": "98379496",
   "metadata": {},
   "outputs": [],
   "source": [
    "na3.ndim    #배열의 차원"
   ]
  },
  {
   "cell_type": "markdown",
   "id": "5897a8c9",
   "metadata": {},
   "source": [
    "#### - shape : 배열의 크기"
   ]
  },
  {
   "cell_type": "code",
   "execution_count": null,
   "id": "0282441e",
   "metadata": {},
   "outputs": [],
   "source": [
    "na3.shape   #배열의 크기   (면, 행, 열) matrix"
   ]
  },
  {
   "cell_type": "markdown",
   "id": "d8cb71dc",
   "metadata": {},
   "source": [
    "#### - reshape : 배열의 크기 변경"
   ]
  },
  {
   "cell_type": "code",
   "execution_count": null,
   "id": "006820ab",
   "metadata": {},
   "outputs": [],
   "source": [
    "na = np.arange(12)\n",
    "print(na)"
   ]
  },
  {
   "cell_type": "code",
   "execution_count": null,
   "id": "91424b2d",
   "metadata": {},
   "outputs": [],
   "source": [
    "nb = na.reshape(3,4)\n",
    "print(nb)"
   ]
  },
  {
   "cell_type": "code",
   "execution_count": null,
   "id": "ccd85903",
   "metadata": {
    "scrolled": true
   },
   "outputs": [],
   "source": [
    "nb = na.reshape(3,-1)   # -1 : 3행은 정해지고 열은 자동으로 계산\n",
    "print(nb)"
   ]
  },
  {
   "cell_type": "code",
   "execution_count": null,
   "id": "fcbe6dbb",
   "metadata": {},
   "outputs": [],
   "source": [
    "nb = na.reshape(2,2,-1)  # -1 : 2행 2열은 정해지고 면은 자동으로 계산\n",
    "print(nb)"
   ]
  },
  {
   "cell_type": "code",
   "execution_count": null,
   "id": "676afe8f",
   "metadata": {
    "scrolled": true
   },
   "outputs": [],
   "source": [
    "nb = na.reshape(2,-1,2)\n",
    "print(nb)"
   ]
  },
  {
   "cell_type": "markdown",
   "id": "382666df",
   "metadata": {},
   "source": [
    "#### #배열의 인덱싱 & 슬라이싱"
   ]
  },
  {
   "cell_type": "code",
   "execution_count": null,
   "id": "9b76d652",
   "metadata": {
    "scrolled": false
   },
   "outputs": [],
   "source": [
    "na1 = np.array([0,1,2,3,4,5,6,7,8,9])\n",
    "print(na1[2])\n",
    "print(na1[1:3])\n",
    "print(na1[::-1])\n",
    "print('-'*20)\n",
    "\n",
    "na2 = np.array([[0,1,2],[3,4,5]])\n",
    "print(na2[0,0])\n",
    "print(na2[-1,2])\n",
    "print(na2[:,1])\n",
    "print(na2[1,1:])\n",
    "print('-'*20)\n",
    "\n",
    "na3 = np.array([[[0,1,2],[3,4,5]],[[6,7,8],[9,10,11]]])\n",
    "print(na3[0,0])\n",
    "print(na3[0,1,2])\n",
    "print(na3[1,1:2,2])"
   ]
  },
  {
   "cell_type": "markdown",
   "id": "29a81622",
   "metadata": {},
   "source": [
    "#### #배열의 데이터 타입 : 한가지 데이터 타입만 가질 수 있다"
   ]
  },
  {
   "cell_type": "code",
   "execution_count": null,
   "id": "223ad743",
   "metadata": {},
   "outputs": [],
   "source": [
    "na = np.array([0,1,2,3,4,5,6,7,8,9])\n",
    "na.dtype"
   ]
  },
  {
   "cell_type": "markdown",
   "id": "9723f7c6",
   "metadata": {},
   "source": [
    "#### - 배열은 한가지 데이터 타입만 가질 수 있다."
   ]
  },
  {
   "cell_type": "code",
   "execution_count": null,
   "id": "5588dc95",
   "metadata": {},
   "outputs": [],
   "source": [
    "na = np.array([0,1,2,3.5,4,5,6,7,8,9])  # 3.5는 실수\n",
    "print(na)\n",
    "print(na.dtype)   # float"
   ]
  },
  {
   "cell_type": "code",
   "execution_count": null,
   "id": "1c442686",
   "metadata": {},
   "outputs": [],
   "source": [
    "na = np.array([0,1,2,3.5,'4',5,6,7,8,9])\n",
    "print(na)\n",
    "print(na.dtype)   # 유니코드 문자열"
   ]
  },
  {
   "cell_type": "markdown",
   "id": "135cf60d",
   "metadata": {},
   "source": [
    "#### - 데이터 타입 지정"
   ]
  },
  {
   "cell_type": "code",
   "execution_count": null,
   "id": "064c21f8",
   "metadata": {
    "scrolled": true
   },
   "outputs": [],
   "source": [
    "na = np.array([1, 2, 3], dtype='float')\n",
    "print(na.dtype)\n",
    "print(na)"
   ]
  },
  {
   "cell_type": "markdown",
   "id": "3b2a8fd1",
   "metadata": {},
   "source": [
    "#### #Python의 데이터 형과 대응되는 numpy의 데이터 형"
   ]
  },
  {
   "cell_type": "code",
   "execution_count": null,
   "id": "4f8d401a",
   "metadata": {
    "scrolled": true
   },
   "outputs": [],
   "source": [
    "print(int is np.int)\n",
    "print(float is np.float)\n",
    "print(float is np.float64)\n",
    "print(float == 'float64')\n",
    "print(str == np.unicode)"
   ]
  },
  {
   "cell_type": "markdown",
   "id": "c2bc8775",
   "metadata": {},
   "source": [
    "#### - 모두 동일한 데이터 타입"
   ]
  },
  {
   "cell_type": "code",
   "execution_count": null,
   "id": "5b69454b",
   "metadata": {},
   "outputs": [],
   "source": [
    "na = np.array([1, 2, 3], dtype=np.int64) \n",
    "print(na.dtype) # int64 \n",
    "\n",
    "na = np.array([1, 2, 3], dtype='int64') \n",
    "print(na.dtype) # int64 \n",
    "\n",
    "na = np.array([1, 2, 3], dtype='i8') \n",
    "print(na.dtype) # int64"
   ]
  },
  {
   "cell_type": "code",
   "execution_count": null,
   "id": "8adb31df",
   "metadata": {},
   "outputs": [],
   "source": [
    "na = np.array([1, 2, 3], dtype=np.float64) \n",
    "print(na.dtype) # float64 \n",
    "\n",
    "na = np.array([1, 2, 3], dtype='float64') \n",
    "print(na.dtype) # float64 \n",
    "\n",
    "na = np.array([1, 2, 3], dtype='f8') \n",
    "print(na.dtype) # float64"
   ]
  },
  {
   "cell_type": "code",
   "execution_count": null,
   "id": "b9ec15ba",
   "metadata": {},
   "outputs": [],
   "source": [
    "na = np.array([True, False])\n",
    "#na = np.array([True, False], dtype='int')\n",
    "print(na, na.dtype)"
   ]
  },
  {
   "cell_type": "markdown",
   "id": "d066071f",
   "metadata": {},
   "source": [
    "#### #숫자형 데이터가 취할 수 있는 값 범위 (최소값, 최대값)의 확인 :  iinfo() finfo()"
   ]
  },
  {
   "cell_type": "code",
   "execution_count": null,
   "id": "d0b1ccfc",
   "metadata": {
    "scrolled": true
   },
   "outputs": [],
   "source": [
    "# 정수 int, unit이 취할 수 있는 범위\n",
    "print(np.iinfo('int64'))"
   ]
  },
  {
   "cell_type": "markdown",
   "id": "6109a610",
   "metadata": {},
   "source": [
    " - 부동소수점 float이 취할 수 있는 범위\n",
    " - np.finfo()"
   ]
  },
  {
   "cell_type": "code",
   "execution_count": null,
   "id": "e2ae301b",
   "metadata": {
    "scrolled": true
   },
   "outputs": [],
   "source": [
    "print(np.finfo('float'))"
   ]
  },
  {
   "cell_type": "markdown",
   "id": "3698d418",
   "metadata": {},
   "source": [
    "#### #데이터 타입 변경 : astype()"
   ]
  },
  {
   "cell_type": "code",
   "execution_count": null,
   "id": "98cea71f",
   "metadata": {},
   "outputs": [],
   "source": [
    "na = np.array([0,1,2,3,4])\n",
    "print(na)\n",
    "print(na.dtype)\n",
    "\n",
    "na = na.astype(np.float)\n",
    "print(na)\n",
    "print(na.dtype)"
   ]
  },
  {
   "cell_type": "markdown",
   "id": "5332fdb5",
   "metadata": {},
   "source": [
    "### [실습문제] \n",
    "2차원 이미지를 1차원 벡터로 변경하기 : - 8 x 8 --> (64 x 1) "
   ]
  },
  {
   "cell_type": "code",
   "execution_count": null,
   "id": "e98a22b5",
   "metadata": {},
   "outputs": [],
   "source": [
    "# 사이킷런 라이브러리 설치하기\n",
    "!pip install scikit-learn"
   ]
  },
  {
   "cell_type": "markdown",
   "id": "29e6928a",
   "metadata": {},
   "source": [
    "#### 8 x 8 형태의 2차원 행렬(이미지) 출력하기"
   ]
  },
  {
   "cell_type": "code",
   "execution_count": null,
   "id": "96a3f9dd",
   "metadata": {},
   "outputs": [],
   "source": [
    "from sklearn.datasets import load_digits\n",
    "import matplotlib.pyplot as plt\n",
    "\n",
    "digits = load_digits()\n",
    "# print(digits)\n",
    "\n",
    "samples = [0, 10, 20, 30, 1, 11, 21, 31]  # 선택할 이미지 번호\n",
    "result= []    # 최종 1차원 데이터를 담을 리스트 변수\n",
    "for i in range(8):\n",
    "    result.append(digits.images[samples[i]])\n",
    "# print(result)\n",
    "    \n",
    "# result에 담긴 데이터를 이미지 형태로 그래프로 출력하기\n",
    "plt.figure(figsize=(8, 2))\n",
    "plt.suptitle('** load_digits image **')  # 그래프 그룹 제목\n",
    "for i in range(8):\n",
    "    plt.subplot(1, 8, i+1)   # 그래프를 1행 8열로 구분하기\n",
    "    plt.imshow(result[i], interpolation='nearest', cmap=plt.cm.bone_r)\n",
    "    plt.grid(False)         # 그래프에 격자 모양 출력 X\n",
    "    plt.xticks([])           # x축 눈금 빈 상태로 보이기\n",
    "    plt.yticks([])           # y축 눈금 빈 상태로 보이기\n",
    "    plt.title(f'image: {i+1}')  # 그래프 제목\n",
    "plt.tight_layout()           # 그래프 설정 값에 맞게 출력\n",
    "plt.show()"
   ]
  },
  {
   "cell_type": "markdown",
   "id": "1907a115",
   "metadata": {},
   "source": [
    "#### 64 x 1 형태의 1차원 벡터로 변형하기"
   ]
  },
  {
   "cell_type": "code",
   "execution_count": null,
   "id": "3c3274d6",
   "metadata": {
    "scrolled": false
   },
   "outputs": [],
   "source": [
    "v = []\n",
    "for i in range(8):\n",
    "    v.append(d[i].reshape(64,1))  #벡터화\n",
    "    \n",
    "plt.figure(figsize=(10, 3))\n",
    "for i in range(8):\n",
    "    plt.subplot(1, 8, i+1)\n",
    "    plt.imshow(v[i], aspect=0.4, interpolation='nearest', cmap=plt.cm.bone_r)\n",
    "    plt.grid(False)\n",
    "    plt.xticks([])\n",
    "    plt.yticks([])\n",
    "    plt.title(f'vector: {i+1}')\n",
    "plt.suptitle('Vector image', y=1.05)\n",
    "plt.tight_layout(w_pad=7)\n",
    "plt.show()"
   ]
  },
  {
   "cell_type": "markdown",
   "id": "c0385a50",
   "metadata": {},
   "source": [
    "#### #다양한 배열생성 방법"
   ]
  },
  {
   "cell_type": "markdown",
   "id": "bad71664",
   "metadata": {},
   "source": [
    "#### - zeros"
   ]
  },
  {
   "cell_type": "code",
   "execution_count": null,
   "id": "327869ae",
   "metadata": {},
   "outputs": [],
   "source": [
    "np.zeros(5)"
   ]
  },
  {
   "cell_type": "code",
   "execution_count": null,
   "id": "b98df9b6",
   "metadata": {},
   "outputs": [],
   "source": [
    "np.zeros((2, 3), dtype=int)  # 튜플 타입으로 지정"
   ]
  },
  {
   "cell_type": "code",
   "execution_count": null,
   "id": "100b309f",
   "metadata": {},
   "outputs": [],
   "source": [
    "np.zeros((2, 3, 4))"
   ]
  },
  {
   "cell_type": "code",
   "execution_count": null,
   "id": "80bc1147",
   "metadata": {
    "scrolled": true
   },
   "outputs": [],
   "source": [
    "np.zeros(5, dtype=\"U4\")"
   ]
  },
  {
   "cell_type": "markdown",
   "id": "4f94aa0b",
   "metadata": {},
   "source": [
    "#### - zeros((768, 1024))로 0을 채운 후 이미지 화면 띄우기"
   ]
  },
  {
   "cell_type": "code",
   "execution_count": null,
   "id": "7d6b3d44",
   "metadata": {},
   "outputs": [],
   "source": [
    "'''\n",
    "이 코드를 오류없이 실행하려면 opencv 라이브러리(cv2)를 설치해야한다.\n",
    "pip install opencv-python\n",
    "'''\n",
    "\n",
    "import numpy as np\n",
    "import cv2\n",
    "\n",
    "image = np.zeros((768, 1024), np.uint8)  #\n",
    "# image.fill(200)      # image에 200 을 채우기 -> image[:] = 200\n",
    "\n",
    "cv2.imshow(\"Window title\", image)\n",
    "cv2.waitKey(0)\n",
    "cv2.destroyAllWindows()"
   ]
  },
  {
   "cell_type": "markdown",
   "id": "75b0b222",
   "metadata": {},
   "source": [
    "#### - ones"
   ]
  },
  {
   "cell_type": "code",
   "execution_count": null,
   "id": "dcaccd9e",
   "metadata": {
    "scrolled": true
   },
   "outputs": [],
   "source": [
    "np.ones(5)"
   ]
  },
  {
   "cell_type": "code",
   "execution_count": null,
   "id": "92be784d",
   "metadata": {},
   "outputs": [],
   "source": [
    "np.ones((2,3), dtype='i')"
   ]
  },
  {
   "cell_type": "markdown",
   "id": "5947857f",
   "metadata": {},
   "source": [
    "#### - zeros_like, ones_like: 다른 배열과 같은 크기의 배열 생성"
   ]
  },
  {
   "cell_type": "code",
   "execution_count": null,
   "id": "e503edee",
   "metadata": {
    "scrolled": true
   },
   "outputs": [],
   "source": [
    "na = np.ones((2,3), dtype='i')\n",
    "nb = np.ones_like(na)    # 형태를 복사하고 1로 채움\n",
    "print(nb)"
   ]
  },
  {
   "cell_type": "markdown",
   "id": "5692b586",
   "metadata": {},
   "source": [
    "#### - empty : 배열만 생성 (값을 초기화 하지 않음)"
   ]
  },
  {
   "cell_type": "code",
   "execution_count": null,
   "id": "8bd4f436",
   "metadata": {},
   "outputs": [],
   "source": [
    "na = np.empty((3,1))  # 배열의 크기가 커지면 배열을 초기화하는데도 시간이 걸린다\n",
    "print(na)"
   ]
  },
  {
   "cell_type": "markdown",
   "id": "5efbc68d",
   "metadata": {},
   "source": [
    "#### - arange : range와 유사한 명령"
   ]
  },
  {
   "cell_type": "code",
   "execution_count": null,
   "id": "e6750baa",
   "metadata": {},
   "outputs": [],
   "source": [
    "na = np.arange(10)\n",
    "print(na)"
   ]
  },
  {
   "cell_type": "code",
   "execution_count": null,
   "id": "eefdc99e",
   "metadata": {},
   "outputs": [],
   "source": [
    "na = np.arange(2, 10, 2)  # start, end(포함안됨), step\n",
    "print(na)"
   ]
  },
  {
   "cell_type": "markdown",
   "id": "3ae12f00",
   "metadata": {},
   "source": [
    "#### - linspace: 선형구간 지정, logspace: 로그구간 지정"
   ]
  },
  {
   "cell_type": "code",
   "execution_count": null,
   "id": "6569551b",
   "metadata": {},
   "outputs": [],
   "source": [
    "na = np.linspace(0, 100, 5, dtype=int)\n",
    "print(na)"
   ]
  },
  {
   "cell_type": "code",
   "execution_count": null,
   "id": "74e93072",
   "metadata": {},
   "outputs": [],
   "source": [
    "na = np.logspace(0.1, 1, 10)\n",
    "print(na)"
   ]
  },
  {
   "cell_type": "markdown",
   "id": "ca34090f",
   "metadata": {},
   "source": [
    "--------------------------------"
   ]
  },
  {
   "cell_type": "markdown",
   "id": "1bced500",
   "metadata": {},
   "source": [
    "### 배열의 연산"
   ]
  },
  {
   "cell_type": "markdown",
   "id": "de379e36",
   "metadata": {},
   "source": [
    "### [실습문제] \n",
    "numpy 배열을 이용하여 아래 z = x + y 를 코딩하기"
   ]
  },
  {
   "cell_type": "code",
   "execution_count": null,
   "id": "ed057530",
   "metadata": {
    "scrolled": true
   },
   "outputs": [],
   "source": [
    "x = np.arange(1,10001)\n",
    "y = np.arange(10001, 20001)\n",
    "z = x + y\n",
    "z"
   ]
  },
  {
   "cell_type": "markdown",
   "id": "459edc56",
   "metadata": {},
   "source": [
    "#### #벡터화 연산"
   ]
  },
  {
   "cell_type": "code",
   "execution_count": null,
   "id": "238c4ecd",
   "metadata": {},
   "outputs": [],
   "source": [
    "x = np.array([0,1,2,3,4])\n",
    "print(x+1)"
   ]
  },
  {
   "cell_type": "code",
   "execution_count": null,
   "id": "e3d9e35b",
   "metadata": {},
   "outputs": [],
   "source": [
    "print(2*x)"
   ]
  },
  {
   "cell_type": "code",
   "execution_count": null,
   "id": "06f88915",
   "metadata": {},
   "outputs": [],
   "source": [
    "a = np.array([1,2,3])\n",
    "b = np.array([10,20,30])\n",
    "print(2*a + b)"
   ]
  },
  {
   "cell_type": "code",
   "execution_count": null,
   "id": "0bc10742",
   "metadata": {},
   "outputs": [],
   "source": [
    "print(a == 2)"
   ]
  },
  {
   "cell_type": "code",
   "execution_count": null,
   "id": "fb66f991",
   "metadata": {},
   "outputs": [],
   "source": [
    "print(b > 10)"
   ]
  },
  {
   "cell_type": "code",
   "execution_count": null,
   "id": "9c5aeb41",
   "metadata": {},
   "outputs": [],
   "source": [
    "print((a == 2) & (b > 10))"
   ]
  },
  {
   "cell_type": "markdown",
   "id": "71a94f45",
   "metadata": {},
   "source": [
    "#### #브로드캐스팅\n",
    " - 서로 다른 크기를 가진 두 배열의 사칙 연산을 지원함\n",
    " - 크기가 작은 배열을 자동으로 반복 확장하여 크기가 큰 배열에 맞추는 방법"
   ]
  },
  {
   "cell_type": "code",
   "execution_count": null,
   "id": "5e1f0d0f",
   "metadata": {},
   "outputs": [],
   "source": [
    "x1 = np.arange(0,5)\n",
    "x1 = x1.reshape(-1,1)\n",
    "x2 = x1 + 1\n",
    "x3 = x2 + 1\n",
    "\n",
    "arr = np.hstack([x1,x2,x3])\n",
    "print(arr)\n",
    "print(x1)\n",
    "print(arr + x1)"
   ]
  },
  {
   "cell_type": "code",
   "execution_count": null,
   "id": "2155adf2",
   "metadata": {
    "scrolled": true
   },
   "outputs": [],
   "source": [
    "y = np.arange(0,3)\n",
    "print(arr)\n",
    "print(y )\n",
    "print(arr + y)"
   ]
  },
  {
   "cell_type": "markdown",
   "id": "e550cd91",
   "metadata": {},
   "source": [
    "### [실습문제]\n",
    "A, B, C 세 회사의 주식은 각각 100만원, 80만원, 50만원이다. 이 주식을 각각 3주 4주 5주를 매수할 때 필요한 금액을 넘파이를 이용하여 구해보시오."
   ]
  },
  {
   "cell_type": "code",
   "execution_count": null,
   "id": "cca994fc",
   "metadata": {},
   "outputs": [],
   "source": [
    "p = np.array([100, 80, 50])\n",
    "n = np.array([3, 4, 5])\n",
    "\n",
    "total = np.sum(p * n)\n",
    "total = p @ n  # 벡터와 행렬의 내적구하는 방법\n",
    "\n",
    "print(f'총금액: {total} 만원')"
   ]
  },
  {
   "cell_type": "markdown",
   "id": "07d64a5d",
   "metadata": {},
   "source": [
    "----------------------------------------------"
   ]
  },
  {
   "cell_type": "markdown",
   "id": "6c134b25",
   "metadata": {},
   "source": [
    "### 기술통계 함수"
   ]
  },
  {
   "cell_type": "markdown",
   "id": "a4058926",
   "metadata": {},
   "source": [
    "numpy는 아래와 같은 데이터 집합에 대해 간단한 통계를 계산하는 함수(통계량)를 제공한다.\n",
    " - **데이터의 개수(count)**\n",
    " - **평균(mean, average)**: 평균을 통계용어->표본 평균(sample average, sample mean)\n",
    " - **분산(variance)**: 표본 분산, 데이터와 표본 평균간의 거리의 제곱의 평균, 표본 분산이 작으면 데이터가 모여있는 것이고 크면 흩어져 있는 것\n",
    " - **표준 편차(standard deviation)** : 표본 분산의 양의 제곱근 값\n",
    " - **최댓값(maximum)** : 데이터 중에서 가장 큰 값\n",
    " - **최솟값(minimum)** : 데이터 중에서 가장 작은 값\n",
    " - **중앙값(median)** : 데이터를 크기대로 정렬하였을 때 가장 가운데에 있는 수\n",
    " - **사분위수(quartile)** : 데이터를 가장 작은 수부터 가장 큰 수까지 크기가 커지는 순서대로 정렬하였을 때 1/4, 2/4, 3/4 위치에 있는 수\n",
    " \n",
    " **x={18,5,10,23,19,−8,10,0,0,5,2,15,8,2,5,4,15,−1,4,−7,−24,7,9,−6,23,−13}**"
   ]
  },
  {
   "cell_type": "code",
   "execution_count": null,
   "id": "d9aba66d",
   "metadata": {
    "scrolled": false
   },
   "outputs": [],
   "source": [
    "import numpy as np\n",
    "\n",
    "x = np.array([18,5,10,23,19,-8,10,0,0,5,2,15,8,2,5,4,15,-1,4,-7,-24,7,9,-6,23,-13])\n",
    "print(x)"
   ]
  },
  {
   "cell_type": "markdown",
   "id": "25afa611",
   "metadata": {},
   "source": [
    "#### - 평균(mean, average)"
   ]
  },
  {
   "cell_type": "code",
   "execution_count": null,
   "id": "a960862a",
   "metadata": {},
   "outputs": [],
   "source": [
    "print( np.mean(x) )"
   ]
  },
  {
   "cell_type": "markdown",
   "id": "0d3a7957",
   "metadata": {},
   "source": [
    "#### - 분산(variance)"
   ]
  },
  {
   "cell_type": "code",
   "execution_count": null,
   "id": "2eb4f8c6",
   "metadata": {},
   "outputs": [],
   "source": [
    "print( np.var(x) )"
   ]
  },
  {
   "cell_type": "markdown",
   "id": "3a9e519d",
   "metadata": {},
   "source": [
    "#### - 표준 편차(standard deviation)"
   ]
  },
  {
   "cell_type": "code",
   "execution_count": null,
   "id": "86023608",
   "metadata": {},
   "outputs": [],
   "source": [
    "print( np.std(x) )"
   ]
  },
  {
   "cell_type": "markdown",
   "id": "ea516c38",
   "metadata": {},
   "source": [
    "#### - 최대값(maximum)"
   ]
  },
  {
   "cell_type": "code",
   "execution_count": null,
   "id": "37e14b15",
   "metadata": {},
   "outputs": [],
   "source": [
    "print( np.max(x) )"
   ]
  },
  {
   "cell_type": "markdown",
   "id": "6dc4f8e1",
   "metadata": {},
   "source": [
    "#### - 배열의 최대값 인덱스(argmax)\n",
    "- 동일한 값이 있을 경우 첫 번째 인덱스"
   ]
  },
  {
   "cell_type": "code",
   "execution_count": null,
   "id": "f65eb3e3",
   "metadata": {},
   "outputs": [],
   "source": [
    "print( np.argmax(x) )"
   ]
  },
  {
   "cell_type": "markdown",
   "id": "bb98570a",
   "metadata": {},
   "source": [
    "#### - 최솟값(minimum)"
   ]
  },
  {
   "cell_type": "code",
   "execution_count": null,
   "id": "726cb979",
   "metadata": {},
   "outputs": [],
   "source": [
    "print( np.min(x) )"
   ]
  },
  {
   "cell_type": "markdown",
   "id": "d1f082c6",
   "metadata": {},
   "source": [
    "#### - 배열의 최소값 인덱스(argmin)\n",
    "- 동일한 값이 있을 경우 첫 번째 인덱스"
   ]
  },
  {
   "cell_type": "code",
   "execution_count": null,
   "id": "04dbbb01",
   "metadata": {},
   "outputs": [],
   "source": [
    "print( np.argmin(x) )"
   ]
  },
  {
   "cell_type": "markdown",
   "id": "b40235f4",
   "metadata": {},
   "source": [
    "#### - 중앙값(median)"
   ]
  },
  {
   "cell_type": "code",
   "execution_count": null,
   "id": "c1cb2637",
   "metadata": {},
   "outputs": [],
   "source": [
    "print( np.median(x) )"
   ]
  },
  {
   "cell_type": "markdown",
   "id": "da702f46",
   "metadata": {},
   "source": [
    " #### - 사분위수(quartile)\n",
    " - 자동 정렬 후 계산"
   ]
  },
  {
   "cell_type": "code",
   "execution_count": null,
   "id": "6a19a766",
   "metadata": {},
   "outputs": [],
   "source": [
    "print( np.percentile(x, 0) ) # 0% 해당하는 수"
   ]
  },
  {
   "cell_type": "code",
   "execution_count": null,
   "id": "e6712bb6",
   "metadata": {},
   "outputs": [],
   "source": [
    "print( np.percentile(x, 25) )  # 25%,  1사분위 수"
   ]
  },
  {
   "cell_type": "code",
   "execution_count": null,
   "id": "df6c63dc",
   "metadata": {},
   "outputs": [],
   "source": [
    "print( np.percentile(x, 50) )  # 50%, 2사분위 수"
   ]
  },
  {
   "cell_type": "code",
   "execution_count": null,
   "id": "94b4bffd",
   "metadata": {},
   "outputs": [],
   "source": [
    "print( np.percentile(x, 75) ) # 75%, 3사분위 수"
   ]
  },
  {
   "cell_type": "code",
   "execution_count": null,
   "id": "7f33465e",
   "metadata": {},
   "outputs": [],
   "source": [
    "print( np.percentile(x, 100) )  # 100%,  최대값"
   ]
  },
  {
   "cell_type": "markdown",
   "id": "887e7895",
   "metadata": {},
   "source": [
    "#### - 히스토그램 그리기"
   ]
  },
  {
   "cell_type": "code",
   "execution_count": null,
   "id": "68fea9cc",
   "metadata": {
    "scrolled": false
   },
   "outputs": [],
   "source": [
    "x = np.array([18,5,10,23,19,-8,10,0,0,5,2,15,8,2,5,4,15,-1,4,-7,-24,7,9,-6,23,-13])\n",
    "print(f'도수: {len(x)}')   # 도수\n",
    "\n",
    "bins = np.arange(np.min(x), np.max(x),5 )   # 도수분포 구간 \n",
    "print(f'도수분포 구간: {bins}')   \n",
    "\n",
    "hist, bins = np.histogram(x, bins)  # \n",
    "# hist, bins = np.histogram(x, bins=5)  # 도수를 5개의 구간으로 나눈 수\n",
    "print(f'히스토그램 구간에 해당하는 도수: {hist}')\n"
   ]
  },
  {
   "cell_type": "code",
   "execution_count": null,
   "id": "0120c5e0",
   "metadata": {},
   "outputs": [],
   "source": [
    "import matplotlib.pyplot as plt\n",
    "\n",
    "plt.hist(x, edgecolor='w')\n",
    "plt.show()"
   ]
  },
  {
   "cell_type": "code",
   "execution_count": null,
   "id": "c3970450",
   "metadata": {
    "scrolled": true
   },
   "outputs": [],
   "source": [
    "# 구간의 개수를 직접 지정 : bins=5\n",
    "import matplotlib.pyplot as plt\n",
    "\n",
    "plt.hist(x, bins=5, edgecolor='w')\n",
    "plt.show()"
   ]
  },
  {
   "cell_type": "code",
   "execution_count": null,
   "id": "4fe65d27",
   "metadata": {
    "scrolled": false
   },
   "outputs": [],
   "source": [
    "n, bins, patches = plt.hist(x, bins=10, edgecolor='w')\n",
    "print(n, bins, patches)\n",
    "plt.show()"
   ]
  },
  {
   "cell_type": "markdown",
   "id": "0049f8d0",
   "metadata": {},
   "source": [
    "### 난수(Random) "
   ]
  },
  {
   "cell_type": "markdown",
   "id": "d0a3c98a",
   "metadata": {},
   "source": [
    "#### #난수 발생"
   ]
  },
  {
   "cell_type": "markdown",
   "id": "0b7dcc4d",
   "metadata": {},
   "source": [
    "#### - 시드 설정\n",
    "인수로는 0과 같거나 큰 정수를 넣어준다"
   ]
  },
  {
   "cell_type": "code",
   "execution_count": null,
   "id": "95cc0c74",
   "metadata": {},
   "outputs": [],
   "source": [
    "np.random.seed(0)"
   ]
  },
  {
   "cell_type": "markdown",
   "id": "1897a8e3",
   "metadata": {},
   "source": [
    "#### - 난수 발생 : rand\n",
    " 0과 1사이의 균일 분포 난수를 발생"
   ]
  },
  {
   "cell_type": "code",
   "execution_count": null,
   "id": "44655be4",
   "metadata": {},
   "outputs": [],
   "source": [
    "np.random.rand(5)  # 0~1사이 균일분포 5개"
   ]
  },
  {
   "cell_type": "markdown",
   "id": "4a1e10e4",
   "metadata": {},
   "source": [
    "#### - randn: 표준 정규 분포:\n",
    "- 기댓값이 0이고 표준편차가 1인 표준 정규 분포"
   ]
  },
  {
   "cell_type": "code",
   "execution_count": null,
   "id": "e5bfa633",
   "metadata": {},
   "outputs": [],
   "source": [
    "np.random.randn(5) "
   ]
  },
  {
   "cell_type": "markdown",
   "id": "c7bdc96d",
   "metadata": {},
   "source": [
    "#### - randint: 균일 분포의 정수 난수: \n",
    "- random.randint(low, high=None, size=None)"
   ]
  },
  {
   "cell_type": "code",
   "execution_count": null,
   "id": "c10cc279",
   "metadata": {},
   "outputs": [],
   "source": [
    "np.random.randint(10,size=5) "
   ]
  },
  {
   "cell_type": "code",
   "execution_count": null,
   "id": "3f6d6f3f",
   "metadata": {},
   "outputs": [],
   "source": [
    "np.random.randint(10, 20, size=5) "
   ]
  },
  {
   "cell_type": "markdown",
   "id": "c8417da4",
   "metadata": {},
   "source": [
    "#### - 데이터 순서 임의로 바꾸기 :  shuffle"
   ]
  },
  {
   "cell_type": "code",
   "execution_count": null,
   "id": "dd5476f6",
   "metadata": {},
   "outputs": [],
   "source": [
    "x = np.arange(10)\n",
    "print(x)\n",
    "\n",
    "np.random.shuffle(x)\n",
    "print(x)"
   ]
  },
  {
   "cell_type": "markdown",
   "id": "31b69bf6",
   "metadata": {},
   "source": [
    "#### - 데이터 샘플링 : choice\n",
    "이미 있는 데이터 집합에서 일부를 무작위로 선택하는 것을 표본선택 혹은 샘플링(sampling)이라고 한다\n",
    "\n",
    "numpy.random.choice(a, size=None, replace=True, p=None)\n",
    " - a : 배열이면 원래의 데이터, 정수이면 arange(a) 명령으로 데이터 생성\n",
    " - size : 정수. 샘플 숫자\n",
    " - replace : 불리언. True이면 한번 선택한 데이터를 다시 선택 가능(복원추출/비복원추출)\n",
    " - p : 배열. 각 데이터가 선택될 수 있는 확률"
   ]
  },
  {
   "cell_type": "code",
   "execution_count": null,
   "id": "676013ea",
   "metadata": {},
   "outputs": [],
   "source": [
    "np.random.choice(5, 3, replace=False)  # arange(5)에서 3개만 선택"
   ]
  },
  {
   "cell_type": "code",
   "execution_count": null,
   "id": "6e546138",
   "metadata": {},
   "outputs": [],
   "source": [
    "np.random.choice(5, 5, replace=False)  # shuffle 명령과 같다."
   ]
  },
  {
   "cell_type": "code",
   "execution_count": null,
   "id": "5ed190f4",
   "metadata": {},
   "outputs": [],
   "source": [
    "np.random.choice(5, 10)  # 반복해서 10개 선택"
   ]
  },
  {
   "cell_type": "code",
   "execution_count": null,
   "id": "c41f2207",
   "metadata": {},
   "outputs": [],
   "source": [
    "np.random.choice(5, 10, p=[0.1, 0, 0.3, 0.6, 0])  # 선택 확률을 다르게 해서 10개 선택"
   ]
  },
  {
   "cell_type": "markdown",
   "id": "a2fccc33",
   "metadata": {},
   "source": [
    "#### - 카운트, 정렬\n",
    "- bincount: 배열 요소들의 각 개수 셈\n",
    "- unique: 배열 요소 중 중복되지 않은 요소만 개수 셈\n",
    "- sort: 배열 요소 정렬"
   ]
  },
  {
   "cell_type": "code",
   "execution_count": null,
   "id": "723fa265",
   "metadata": {},
   "outputs": [],
   "source": [
    "x = np.random.choice(5, 10)\n",
    "print(x)\n",
    "\n",
    "print( np.bincount(x) ) \n",
    "print( np.unique(x) )\n",
    "print( np.sort(x) )"
   ]
  },
  {
   "cell_type": "markdown",
   "id": "5bc4fbaa",
   "metadata": {},
   "source": [
    "### [실습문제] \n",
    "**1번**: 주사위를 100번 던져서 나오는 숫자의 평균을 구하라."
   ]
  },
  {
   "cell_type": "code",
   "execution_count": null,
   "id": "66e4f865",
   "metadata": {
    "scrolled": true
   },
   "outputs": [],
   "source": [
    "# 주사위 데이터 100개 생성\n",
    "x = np.random.randint(1,7, size=100) \n",
    "print(x)\n",
    "\n",
    "\n",
    "# 정렬하기\n",
    "print( np.sort(x) ) \n",
    "\n",
    "\n",
    "# 배열 요소들의 각 개수 세기\n",
    "print(np.bincount(x))\n",
    "print('최종 ---------------')\n",
    "X = list(range(1,7))\n",
    "Y = np.bincount(x)[1:]\n",
    "for i, j in zip(X, Y):\n",
    "    print(f'{i}:{j}번', end='  ')"
   ]
  },
  {
   "cell_type": "markdown",
   "id": "1b26ce0c",
   "metadata": {},
   "source": [
    "#### - 평균, 중위수"
   ]
  },
  {
   "cell_type": "code",
   "execution_count": null,
   "id": "1f9b6d7c",
   "metadata": {
    "scrolled": true
   },
   "outputs": [],
   "source": [
    "print(np.mean(x))\n",
    "# x = np.median(x)"
   ]
  },
  {
   "cell_type": "markdown",
   "id": "aa6f3538",
   "metadata": {},
   "source": [
    "#### - 히스토그램"
   ]
  },
  {
   "cell_type": "code",
   "execution_count": null,
   "id": "44bf999a",
   "metadata": {},
   "outputs": [],
   "source": [
    "plt.hist(x, edgecolor='w')\n",
    "plt.show()"
   ]
  },
  {
   "cell_type": "code",
   "execution_count": null,
   "id": "6bf70f4a",
   "metadata": {
    "scrolled": true
   },
   "outputs": [],
   "source": [
    "import matplotlib.pyplot as plt\n",
    "plt.bar(X, Y, edgecolor='w')\n",
    "plt.show()"
   ]
  },
  {
   "cell_type": "markdown",
   "id": "89a9a4f7",
   "metadata": {},
   "source": [
    "**2번**: 가격이 10,000원인 주식이 있다. 이 주식의 일간 수익률(%)은 기댓값이 0%이고 표준편차가 1%인 표준 정규 분포를 따른다고 하자. \n",
    "250일 동안의 주가를 무작위로 생성하라\n"
   ]
  },
  {
   "cell_type": "code",
   "execution_count": null,
   "id": "96c33287",
   "metadata": {
    "scrolled": true
   },
   "outputs": [],
   "source": [
    "np.random.seed(0)\n",
    "x = np.random.randn(250) \n",
    "x = x + 10000\n",
    "x.astype(dtype=int)"
   ]
  },
  {
   "cell_type": "markdown",
   "id": "cfeb436a",
   "metadata": {},
   "source": [
    "-------------------------"
   ]
  },
  {
   "cell_type": "markdown",
   "id": "52921b7b",
   "metadata": {},
   "source": [
    "## #pandas"
   ]
  },
  {
   "cell_type": "markdown",
   "id": "29345254",
   "metadata": {},
   "source": [
    "### Pandas의 데이터 구조"
   ]
  },
  {
   "cell_type": "markdown",
   "id": "2f0b91b3",
   "metadata": {},
   "source": [
    "\n",
    "#### 1. Series 객체: 1차원 배열, 1차원 ndarray와 호환\n",
    "- **pandas.Series**(data=None, index=None, dtype=None, name=None, copy=False, fastpath=False)\n",
    "\n",
    "#### 2. DataFrame 객체: 2차원 배열. 서로 다른 자료형을 사용 가능. 행(인스턴스), 열(컬럼, 피쳐(feature))\n",
    "- **pandas.DataFrame**(data=None, index=None, columns=None, dtype=None, copy=None)"
   ]
  },
  {
   "cell_type": "markdown",
   "id": "ac69bbbf",
   "metadata": {},
   "source": [
    "### Series"
   ]
  },
  {
   "cell_type": "markdown",
   "id": "9f25b867",
   "metadata": {},
   "source": [
    "#### - Series 데이터 정의하기"
   ]
  },
  {
   "cell_type": "code",
   "execution_count": null,
   "id": "21e7f06e",
   "metadata": {},
   "outputs": [],
   "source": [
    "# Series 데이터 정의하기\n",
    "data = pd.Series([4, 7, -5, 3])\n",
    "data"
   ]
  },
  {
   "cell_type": "markdown",
   "id": "f2c2e56b",
   "metadata": {},
   "source": [
    "#### - Series 데이터 분리된 정보"
   ]
  },
  {
   "cell_type": "code",
   "execution_count": null,
   "id": "f9d255f6",
   "metadata": {
    "scrolled": true
   },
   "outputs": [],
   "source": [
    "# Series 데이터 분리된 정보\n",
    "print(data.values)\n",
    "print(data.index)\n",
    "print(data.dtype)"
   ]
  },
  {
   "cell_type": "markdown",
   "id": "7e2782ef",
   "metadata": {},
   "source": [
    "#### - Series에 인덱스 직접 지정하기"
   ]
  },
  {
   "cell_type": "code",
   "execution_count": null,
   "id": "b0dcfa3c",
   "metadata": {
    "scrolled": true
   },
   "outputs": [],
   "source": [
    "data = pd.Series([4, 7, -5, 3], index=['a','b','c','d'])\n",
    "data"
   ]
  },
  {
   "cell_type": "markdown",
   "id": "fc09b539",
   "metadata": {},
   "source": [
    "### DataFrame"
   ]
  },
  {
   "cell_type": "markdown",
   "id": "0cc3219d",
   "metadata": {},
   "source": [
    "#### 예제1) 딕셔너리 데이터를 DataFrame 데이터로 보여주기"
   ]
  },
  {
   "cell_type": "code",
   "execution_count": null,
   "id": "8f0fa05c",
   "metadata": {},
   "outputs": [],
   "source": [
    "import pandas as pd\n",
    "\n",
    "datas = {2004:[472761,108.2], 2005:[435031,107.8], 2006:[448153,107.5], \n",
    "         2007:[493183,106.2], 2008:[465891,106.4], 2009:[444849,106.4],\n",
    "         2010:[470171,106.9], 2011:[471265,105.7], 2012:[484550,105.7]}\n",
    "\n",
    "df = pd.DataFrame(datas, index=['출생아수', '출생성비'])\n",
    "df.columns.name = '년도'\n",
    "df"
   ]
  },
  {
   "cell_type": "markdown",
   "id": "1e26fc58",
   "metadata": {},
   "source": [
    "#### 예제2)  사이킷런 빌트인 데이터셋 DataFrame 데이터로 보여주기"
   ]
  },
  {
   "cell_type": "code",
   "execution_count": null,
   "id": "8c697410",
   "metadata": {
    "scrolled": false
   },
   "outputs": [],
   "source": [
    "# 사이킷런 빌트인 데이터셋(sklearn.datasets): 붓꽃\n",
    "from sklearn.datasets import load_iris\n",
    "\n",
    "iris = load_iris()\n",
    "\n",
    "df = pd.DataFrame(iris['data'], columns=iris['feature_names'])\n",
    "df"
   ]
  },
  {
   "cell_type": "markdown",
   "id": "4f04d493",
   "metadata": {},
   "source": [
    "#### 예제3)  csv 파일 읽어와서 DataFrame 데이터로 보여주기\n",
    "- https://www.kaggle.com/datasets/uciml/iris 데이터 다운로드"
   ]
  },
  {
   "cell_type": "code",
   "execution_count": null,
   "id": "915a7d61",
   "metadata": {
    "scrolled": true
   },
   "outputs": [],
   "source": [
    "import pandas as pd\n",
    "\n",
    "df = pd.read_csv('data/iris.csv')\n",
    "df"
   ]
  },
  {
   "cell_type": "markdown",
   "id": "2ae02189",
   "metadata": {},
   "source": [
    "### [실습] : Pandas를 이용한 간단한 데이터 분석 예제\n",
    "- 별도 코드 확인"
   ]
  },
  {
   "cell_type": "markdown",
   "id": "125a24cc",
   "metadata": {},
   "source": [
    "-----------------------"
   ]
  },
  {
   "cell_type": "markdown",
   "id": "a085702d",
   "metadata": {},
   "source": [
    "## #matplotlib"
   ]
  },
  {
   "cell_type": "markdown",
   "id": "7a3fc51d",
   "metadata": {},
   "source": [
    "### matplotlib 사용 예:"
   ]
  },
  {
   "cell_type": "code",
   "execution_count": null,
   "id": "fc1c7925",
   "metadata": {},
   "outputs": [],
   "source": [
    "import matplotlib.pyplot as plt\n",
    "\n",
    "# 한글출력 설정\n",
    "matplotlib.rcParams['font.family'] = 'Malgun Gothic'   \n",
    "\n",
    "# 그래프 크기 설정\n",
    "plt.rcParams['figure.figsize'] = (10, 5)  # (가로,세로) 인치 단위\n",
    "#plt.figure(figsize=(10, 5))\n",
    "\n",
    "# X축, Y축 데이터\n",
    "X = list(range(2005,2015,1))\n",
    "Y = [15,7,2,10,8,5,14,9,18,8]\n",
    "\n",
    "\n",
    "plt.plot(X, Y, c='r')     #선 그래프\n",
    "plt.grid(True)\n",
    "plt.title('년도별 그래프')\n",
    "plt.show()"
   ]
  },
  {
   "cell_type": "markdown",
   "id": "ae135a94",
   "metadata": {},
   "source": [
    "### 선 그래프 : 선그래프 나타내기"
   ]
  },
  {
   "cell_type": "code",
   "execution_count": null,
   "id": "80507d76",
   "metadata": {},
   "outputs": [],
   "source": [
    "import matplotlib.pyplot as plt\n",
    "import pandas as pd\n",
    "\n",
    "# 한글출력 설정\n",
    "plt.rcParams['font.family'] = 'Malgun Gothic'  # '맑은 고딕'으로 설정 \n",
    "plt.rcParams['axes.unicode_minus'] = False     # 그래프에서 (-)숫자표시\n",
    "\n",
    "# 그래프 크기 설정\n",
    "plt.rcParams['figure.figsize'] = (10, 5) # 그래프(figure)의 크기, (가로,세로) 인치 단위\n",
    "plt.rcParams['lines.linewidth'] = 3      # 선 두께\n",
    "plt.rcParams['axes.grid'] = True \n",
    "\n",
    "# DataFrame\n",
    "data    = [[15,7,2,10,8,5,14,9,18,8]]  \n",
    "columns = list(range(2005,2015,1))\n",
    "index   = ['횟수']\n",
    "\n",
    "#데이터 프레임으로 만들어 \n",
    "df = pd.DataFrame(data, columns=columns, index=index)\n",
    "df.columns.name = '연도'\n",
    "\n",
    "x = df.columns    #x = df.columns\n",
    "y = df.values[0]  #y = df.values[0]\n",
    "\n",
    "plt.plot(x, y, 'o', linestyle='dashed', c='b')\n",
    "plt.title('년도별 그래프')\n",
    "plt.show()"
   ]
  },
  {
   "cell_type": "markdown",
   "id": "20109fd1",
   "metadata": {},
   "source": [
    "### 선 그래프 : 2개 선 하나의 그래프에 나타내기"
   ]
  },
  {
   "cell_type": "code",
   "execution_count": null,
   "id": "736498e8",
   "metadata": {
    "scrolled": false
   },
   "outputs": [],
   "source": [
    "import matplotlib.pyplot as plt\n",
    "\n",
    "# 한글출력 설정\n",
    "plt.rcParams['font.family'] = 'Malgun Gothic'   \n",
    "\n",
    "# 그래프 크기 설정\n",
    "plt.rcParams['figure.figsize'] = (10, 5)  # (가로,세로) 인치 단위\n",
    "\n",
    "# X축, Y축 데이터\n",
    "X1 = list(range(2005,2015,1))\n",
    "X2 = list(range(2008,2018,1))\n",
    "Y = [15,7,2,10,8,5,14,9,18,8]\n",
    "\n",
    "plt.plot(X1, Y, 'o', linestyle='solid', c='c', label='X1')     #선 그래프\n",
    "plt.plot(X2, Y, 'X', linestyle='solid', c='m', label='X2')     #선 그래프\n",
    "plt.title('년도별 그래프')\n",
    "plt.grid(False)\n",
    "plt.legend()\n",
    "plt.show()"
   ]
  },
  {
   "cell_type": "markdown",
   "id": "30ba18a3",
   "metadata": {},
   "source": [
    "### 선 그래프 : numpy 데이터"
   ]
  },
  {
   "cell_type": "code",
   "execution_count": null,
   "id": "09eb576f",
   "metadata": {
    "scrolled": true
   },
   "outputs": [],
   "source": [
    "import matplotlib.pyplot as plt\n",
    "import numpy as np\n",
    "\n",
    "a = np.array([10,14,19,20,25])\n",
    "plt.plot(a)\n",
    "\n",
    "a2 = np.arange(20)\n",
    "plt.plot(a2)\n",
    "\n",
    "plt.show() "
   ]
  },
  {
   "cell_type": "markdown",
   "id": "a12b5e9c",
   "metadata": {},
   "source": [
    "#### - 2차 방정식의 그래프 : f(x) = a*x^2 + b, 포물선 방정식"
   ]
  },
  {
   "cell_type": "code",
   "execution_count": null,
   "id": "25423deb",
   "metadata": {
    "scrolled": false
   },
   "outputs": [],
   "source": [
    "import matplotlib.pyplot as plt\n",
    "import numpy as np\n",
    "\n",
    "x = np.arange(-4.5,5,0.5)\n",
    "y = 2*x**2\n",
    "plt.plot(x, y)\n",
    "\n",
    "plt.plot(x, 4*x)\n",
    "plt.plot(x,-3*x)\n",
    "plt.show()"
   ]
  },
  {
   "cell_type": "markdown",
   "id": "81ac06c8",
   "metadata": {},
   "source": [
    "### 막대 그래프 나타내기"
   ]
  },
  {
   "cell_type": "code",
   "execution_count": null,
   "id": "ed8b03d9",
   "metadata": {
    "scrolled": true
   },
   "outputs": [],
   "source": [
    "import matplotlib.pyplot as plt\n",
    "\n",
    "# 한글출력 설정\n",
    "plt.rcParams['font.family'] = 'Malgun Gothic'   \n",
    "\n",
    "# 그래프 크기 설정\n",
    "plt.rcParams['figure.figsize'] = (10, 5)  # (가로,세로) 인치 단위\n",
    "\n",
    "# X축, Y축 데이터\n",
    "X = list(range(2005,2015,1))\n",
    "Y = [15,7,2,10,8,5,14,9,18,8]\n",
    "\n",
    "plt.bar(X, Y)     # 막대 그래프\n",
    "plt.grid(False)\n",
    "plt.title('년도별 그래프')\n",
    "plt.show()"
   ]
  },
  {
   "cell_type": "code",
   "execution_count": null,
   "id": "f4c6cf38",
   "metadata": {
    "scrolled": true
   },
   "outputs": [],
   "source": [
    "plt.barh(X, Y)     # 막대 그래프\n",
    "plt.grid(False)\n",
    "plt.title('년도별 그래프')\n",
    "plt.show()"
   ]
  },
  {
   "cell_type": "code",
   "execution_count": null,
   "id": "c98db160",
   "metadata": {
    "scrolled": true
   },
   "outputs": [],
   "source": [
    "#그래프 색상 지정\n",
    "colors = ['r','g','b','c','m','y','k','w']  # 기본색상  # Hexa코드 or CSS컬러사용\n",
    "plt.bar(X, Y,color=colors)\n",
    "plt.show()"
   ]
  },
  {
   "cell_type": "code",
   "execution_count": null,
   "id": "42eabf47",
   "metadata": {},
   "outputs": [],
   "source": [
    "import matplotlib.pyplot as plt\n",
    "\n",
    "# 한글출력 설정\n",
    "plt.rcParams['font.family'] = 'Malgun Gothic'   \n",
    "\n",
    "# 그래프 크기 설정\n",
    "plt.rcParams['figure.figsize'] = (10, 5)  # (가로,세로) 인치 단위\n",
    "\n",
    "# X축, Y축 데이터\n",
    "X1 = list(range(2005,2015,1))\n",
    "X2 = [x+3 for x in X1]\n",
    "Y = [15,7,2,10,8,5,14,9,18,8]\n",
    "\n",
    "plt.bar(X1, Y)     # 막대 그래프\n",
    "plt.bar(X2, Y)     # 막대 그래프\n",
    "plt.title('년도별 그래프')\n",
    "plt.grid(False)\n",
    "plt.show()"
   ]
  },
  {
   "cell_type": "markdown",
   "id": "7d08a785",
   "metadata": {},
   "source": [
    "### 2개 막대 그래프"
   ]
  },
  {
   "cell_type": "code",
   "execution_count": null,
   "id": "398be076",
   "metadata": {},
   "outputs": [],
   "source": [
    "import matplotlib.pyplot as plt\n",
    "import numpy as np\n",
    "\n",
    "# 한글출력 설정\n",
    "plt.rcParams['font.family'] = 'Malgun Gothic'   \n",
    "\n",
    "# 그래프 크기 설정\n",
    "plt.rcParams['figure.figsize'] = (10, 5)  \n",
    "\n",
    "# X축, Y축 데이터\n",
    "X = list(range(2005,2015,1))\n",
    "Y1= [15,7,2,10,8,5,14,9,18,8]\n",
    "Y2= [y+1 for y in Y1]\n",
    "lable = X\n",
    "X = np.arange(len(X))\n",
    "\n",
    "plt.bar(X-0.2, Y1, width=0.4, label='Y1')     # 막대 그래프\n",
    "plt.bar(X+0.2, Y2, width=0.4, label='Y2')     # 막대 그래프\n",
    "plt.xticks(X, lable)\n",
    "\n",
    "plt.title('년도별 그래프')\n",
    "plt.grid(False)\n",
    "plt.legend()\n",
    "plt.show()"
   ]
  },
  {
   "cell_type": "code",
   "execution_count": null,
   "id": "075ea0fe",
   "metadata": {
    "scrolled": false
   },
   "outputs": [],
   "source": [
    "# X축, Y축 데이터\n",
    "X = list(range(2005,2015,1))\n",
    "Y1= [15,7,2,10,8,5,14,9,18,8]\n",
    "Y2= [y+1 for y in Y1]\n",
    "\n",
    "plt.plot(X, Y1, 'o', linestyle='dashed', c='r', label='Y1') # 선 그래프\n",
    "plt.bar(X, Y2, width=0.4, label='Y2')     # 막대 그래프\n",
    "plt.xticks(X, lable)\n",
    "\n",
    "plt.title('년도별 그래프')\n",
    "plt.grid(False)\n",
    "plt.legend()\n",
    "plt.show()"
   ]
  },
  {
   "cell_type": "markdown",
   "id": "04515c8c",
   "metadata": {},
   "source": [
    "### 원 그래프"
   ]
  },
  {
   "cell_type": "code",
   "execution_count": null,
   "id": "80fd27a7",
   "metadata": {},
   "outputs": [],
   "source": [
    "import matplotlib.pyplot as plt \n",
    "import pandas as pd\n",
    "\n",
    "idx = ['1학년','2학년','3학년','4학년']\n",
    "val = [16,12,7,5]\n",
    "per = [val[x]/sum(val) *100 for x in range(len(val))]\n",
    "\n",
    "plt.pie(per, autopct='%1.1f%%',\n",
    "              textprops=dict(color=\"w\"))\n",
    "plt.title(\"학년별 동아리 회원수\")\n",
    "plt.legend(idx, title='학년', loc=\"center right\",\n",
    "          bbox_to_anchor=(1, 0, 0.5, 1))\n",
    "plt.show()"
   ]
  },
  {
   "cell_type": "markdown",
   "id": "fe3c50bf",
   "metadata": {},
   "source": [
    "---------------------------------------------"
   ]
  },
  {
   "cell_type": "code",
   "execution_count": null,
   "id": "2b8c3cc2",
   "metadata": {},
   "outputs": [],
   "source": [
    "THE END"
   ]
  }
 ],
 "metadata": {
  "kernelspec": {
   "display_name": "Python 3",
   "language": "python",
   "name": "python3"
  },
  "language_info": {
   "codemirror_mode": {
    "name": "ipython",
    "version": 3
   },
   "file_extension": ".py",
   "mimetype": "text/x-python",
   "name": "python",
   "nbconvert_exporter": "python",
   "pygments_lexer": "ipython3",
   "version": "3.11.1"
  },
  "vscode": {
   "interpreter": {
    "hash": "5c7b89af1651d0b8571dde13640ecdccf7d5a6204171d6ab33e7c296e100e08a"
   }
  }
 },
 "nbformat": 4,
 "nbformat_minor": 5
}
